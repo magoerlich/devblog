{
 "cells": [
  {
   "cell_type": "markdown",
   "metadata": {
    "dotnet_interactive": {
     "language": "csharp"
    }
   },
   "source": [
    "# Logging in ASP.NET Core (Part 1 - Configuration)\n",
    "> How to configure logging in ASP.NET Core\n",
    "\n",
    "- toc: true\n",
    "- badges: true\n",
    "- comments: true\n",
    "- author: Manuel Görlich\n",
    "- categories: [asp, dotnet, logging, c#]\n"
   ]
  },
  {
   "cell_type": "markdown",
   "metadata": {},
   "source": [
    "## Intro\n",
    "\n",
    "There are multiple ways to log informations in ASP.NET and theres a wide variety of frameworks to make it fit your usecase.\n",
    "\n",
    "But this article will be about the Default logging of ASP.NET, because it's important to understand the fundamentals before you advance to more complex toolings."
   ]
  },
  {
   "cell_type": "markdown",
   "metadata": {},
   "source": [
    "\n",
    "## Default Config\n",
    "\n",
    "When you start with one of the Visual Studio Application Templates logging is enabled by default.\n",
    "\n",
    "But its only configured to a degree and only to show C# and ASP.NET logs of a certain level.\n",
    "\n",
    "\n",
    "Lets checkout the default ```appsettings.Development.json```:"
   ]
  },
  {
   "cell_type": "markdown",
   "metadata": {},
   "source": [
    "```json\n",
    "{\n",
    "  \"DetailedErrors\": true,\n",
    "  \"Logging\": {\n",
    "    \"LogLevel\": {\n",
    "      \"Default\": \"Information\",\n",
    "      \"Microsoft.AspNetCore\": \"Warning\"\n",
    "    }\n",
    "  }\n",
    "}\n",
    "```"
   ]
  },
  {
   "cell_type": "markdown",
   "metadata": {},
   "source": [
    "There are only two root keys. While ```DetailedErrors``` might sound 'interesting', its not what we're looking for, since it only deals with Exceptions.\n",
    "\n",
    "What we're looking for is the ```Logging``` Section. It's a Dictionary of ```Category``` and their logging level.\n",
    "The ```Default``` key is special, since it provides the default level for all unconfigured categories."
   ]
  },
  {
   "cell_type": "markdown",
   "metadata": {},
   "source": [
    "### Categories\n",
    "\n",
    "Everytime a Logger is created, a category is specified.\n",
    "That category is included with each log message created by that instance of the Logger.\n",
    "The category string is arbitrary, but the convention is to use the class name.\n",
    "\n",
    "For example in our current Config the Category ```Microsoft.AspNetCore``` affects the logging of the Asp.NET Framwork itself.\n",
    "\n",
    "With the current configuration we have a Log level of ```Warning``` from the ```AspNetCore``` Framework and ```Information``` for everything else.\n",
    "\n",
    "Let's try it, start your Application using F5 and have a Look at the output in the CMD Window that opens.\n",
    "\n",
    "\n",
    "The output in your CMD window should look similiar to this:"
   ]
  },
  {
   "cell_type": "markdown",
   "metadata": {
    "dotnet_interactive": {
     "language": "pwsh"
    }
   },
   "source": [
    "```shell\n",
    "info: Microsoft.Hosting.Lifetime[14]\n",
    "      Now listening on: https://localhost:7252\n",
    "info: Microsoft.Hosting.Lifetime[14]\n",
    "      Now listening on: http://localhost:5252\n",
    "info: Microsoft.Hosting.Lifetime[0]\n",
    "      Application started. Press Ctrl+C to shut down.\n",
    "info: Microsoft.Hosting.Lifetime[0]\n",
    "      Hosting environment: Development\n",
    "info: Microsoft.Hosting.Lifetime[0]\n",
    "      Content root path: C:\\Users\\magoerlich\\source\\repos\\BlazorSandbox\\BlazorSandbox\\\n",
    "```"
   ]
  },
  {
   "cell_type": "markdown",
   "metadata": {},
   "source": [
    "Since ```Microsoft.Hosting``` has not a specified log level, it inherits the ```Default``` one and so we see these logs.\n",
    "\n",
    "But we don't see any ```Microsoft.AspNetCore``` entries, since the log level is set to ```warning``` and there currently should'nt be any warnings in your application.\n"
   ]
  },
  {
   "cell_type": "markdown",
   "metadata": {},
   "source": [
    "## Customize the basic config\n",
    "\n",
    "Lets change the Logging level of ```Microsoft.AspNetCore``` to ```Information``` as well.\n",
    "\n",
    "To do this, either delete the ```Microsoft.AspNetCore``` line from your config, to make it inherit the default as well, or you can set it explicitly like this:"
   ]
  },
  {
   "cell_type": "markdown",
   "metadata": {},
   "source": [
    "```json\n",
    "{\n",
    "    ...\n",
    "    \"Logging\": {\n",
    "        ...\n",
    "        \"Microsoft.AspNetCore\": \"Information\"\n",
    "        ...\n",
    "    }\n",
    "}\n",
    "```"
   ]
  },
  {
   "cell_type": "markdown",
   "metadata": {},
   "source": [
    "Now lets restart the application and watch a flood of loggs flow through our CMD Window:"
   ]
  },
  {
   "cell_type": "markdown",
   "metadata": {
    "dotnet_interactive": {
     "language": "csharp"
    }
   },
   "source": [
    "#hide-collapse\n",
    "\n",
    "```shell\n",
    "info: Microsoft.AspNetCore.DataProtection.KeyManagement.XmlKeyManager[63]\n",
    "      User profile is available. Using 'C:\\Users\\magoerlich\\AppData\\Local\\ASP.NET\\DataProtection-Keys' as key repository and Windows DPAPI to encrypt keys at rest.\n",
    "info: Microsoft.Hosting.Lifetime[14]\n",
    "      Now listening on: https://localhost:7252\n",
    "info: Microsoft.Hosting.Lifetime[14]\n",
    "      Now listening on: http://localhost:5252\n",
    "info: Microsoft.Hosting.Lifetime[0]\n",
    "      Application started. Press Ctrl+C to shut down.\n",
    "info: Microsoft.Hosting.Lifetime[0]\n",
    "      Hosting environment: Development\n",
    "info: Microsoft.Hosting.Lifetime[0]\n",
    "      Content root path: C:\\Users\\magoerlich\\source\\repos\\BlazorSandbox\\BlazorSandbox\\\n",
    "info: Microsoft.AspNetCore.Hosting.Diagnostics[1]\n",
    "      Request starting HTTP/2 POST https://localhost:7252/_blazor/negotiate?negotiateVersion=1 text/plain;charset=UTF-8 0\n",
    "info: Microsoft.AspNetCore.Authentication.Cookies.CookieAuthenticationHandler[7]\n",
    "      Identity.Application was not authenticated. Failure message: Unprotect ticket failed\n",
    "info: Microsoft.AspNetCore.Routing.EndpointMiddleware[0]\n",
    "      Executing endpoint '/_blazor/negotiate'\n",
    "info: Microsoft.AspNetCore.Routing.EndpointMiddleware[1]\n",
    "      Executed endpoint '/_blazor/negotiate'\n",
    "info: Microsoft.AspNetCore.Hosting.Diagnostics[2]\n",
    "      Request finished HTTP/2 POST https://localhost:7252/_blazor/negotiate?negotiateVersion=1 text/plain;charset=UTF-8 0 - 200 316 application/json 60.4700ms\n",
    "info: Microsoft.AspNetCore.Hosting.Diagnostics[1]\n",
    "      Request starting HTTP/1.1 GET https://localhost:7252/_blazor?id=U9EOBELNcAdSNsKl2ac1UA - -\n",
    "info: Microsoft.AspNetCore.Authentication.Cookies.CookieAuthenticationHandler[7]\n",
    "      Identity.Application was not authenticated. Failure message: Unprotect ticket failed\n",
    "info: Microsoft.AspNetCore.Routing.EndpointMiddleware[0]\n",
    "      Executing endpoint '/_blazor'\n",
    "info: Microsoft.AspNetCore.Hosting.Diagnostics[1]\n",
    "      Request starting HTTP/2 GET https://localhost:7252/fetchdata - -\n",
    "info: Microsoft.AspNetCore.Authentication.Cookies.CookieAuthenticationHandler[7]\n",
    "      Identity.Application was not authenticated. Failure message: Unprotect ticket failed\n",
    "info: Microsoft.AspNetCore.Routing.EndpointMiddleware[0]\n",
    "      Executing endpoint '/_Host'\n",
    "info: Microsoft.AspNetCore.Mvc.RazorPages.Infrastructure.PageActionInvoker[3]\n",
    "      Route matched with {page = \"/_Host\", area = \"\"}. Executing page /_Host\n",
    "info: Microsoft.AspNetCore.Mvc.RazorPages.Infrastructure.PageActionInvoker[107]\n",
    "      Executing an implicit handler method - ModelState is Valid\n",
    "info: Microsoft.AspNetCore.Mvc.RazorPages.Infrastructure.PageActionInvoker[109]\n",
    "      Executed an implicit handler method, returned result Microsoft.AspNetCore.Mvc.RazorPages.PageResult.\n",
    "warn: BlazorSandbox.Pages.FetchData[0]\n",
    "      OnInitializedAsync\n",
    "warn: BlazorSandbox.Pages.FetchData[0]\n",
    "      OnParameterSetAsync\n",
    "info: Microsoft.AspNetCore.Authorization.DefaultAuthorizationService[2]\n",
    "      Authorization failed. These requirements were not met:\n",
    "      DenyAnonymousAuthorizationRequirement: Requires an authenticated user.\n",
    "info: Microsoft.AspNetCore.Mvc.RazorPages.Infrastructure.PageActionInvoker[4]\n",
    "      Executed page /_Host in 2137.5253ms\n",
    "info: Microsoft.AspNetCore.Routing.EndpointMiddleware[1]\n",
    "      Executed endpoint '/_Host'\n",
    "info: Microsoft.AspNetCore.Hosting.Diagnostics[2]\n",
    "      Request finished HTTP/2 GET https://localhost:7252/fetchdata - - - 200 - text/html;+charset=utf-8 2167.6383ms\n",
    "info: Microsoft.AspNetCore.Hosting.Diagnostics[1]\n",
    "      Request starting HTTP/2 POST https://localhost:7252/_blazor/disconnect multipart/form-data;+boundary=----WebKitFormBoundarydCuHPFSVBNxAmn3j 359\n",
    "info: Microsoft.AspNetCore.Authentication.Cookies.CookieAuthenticationHandler[7]\n",
    "      Identity.Application was not authenticated. Failure message: Unprotect ticket failed\n",
    "info: Microsoft.AspNetCore.Routing.EndpointMiddleware[0]\n",
    "      Executing endpoint 'Blazor disconnect'\n",
    "info: Microsoft.AspNetCore.Routing.EndpointMiddleware[1]\n",
    "      Executed endpoint 'Blazor disconnect'\n",
    "info: Microsoft.AspNetCore.Hosting.Diagnostics[2]\n",
    "      Request finished HTTP/2 POST https://localhost:7252/_blazor/disconnect multipart/form-data;+boundary=----WebKitFormBoundarydCuHPFSVBNxAmn3j 359 - 200 0 - 11.3934ms\n",
    "info: Microsoft.AspNetCore.Routing.EndpointMiddleware[1]\n",
    "      Executed endpoint '/_blazor'\n",
    "info: Microsoft.AspNetCore.Hosting.Diagnostics[2]\n",
    "      Request finished HTTP/1.1 GET https://localhost:7252/_blazor?id=U9EOBELNcAdSNsKl2ac1UA - - - 101 - - 2375.3138ms\n",
    "info: Microsoft.AspNetCore.Hosting.Diagnostics[1]\n",
    "      Request starting HTTP/2 GET https://localhost:7252/css/bootstrap/bootstrap.min.css - -\n",
    "info: Microsoft.AspNetCore.Hosting.Diagnostics[1]\n",
    "      Request starting HTTP/2 GET https://localhost:7252/css/site.css - -\n",
    "info: Microsoft.AspNetCore.Hosting.Diagnostics[1]\n",
    "      Request starting HTTP/2 GET https://localhost:7252/BlazorSandbox.styles.css - -\n",
    "info: Microsoft.AspNetCore.StaticFiles.StaticFileMiddleware[6]\n",
    "      The file /BlazorSandbox.styles.css was not modified\n",
    "info: Microsoft.AspNetCore.StaticFiles.StaticFileMiddleware[6]\n",
    "      The file /css/bootstrap/bootstrap.min.css was not modified\n",
    "info: Microsoft.AspNetCore.StaticFiles.StaticFileMiddleware[6]\n",
    "      The file /css/site.css was not modified\n",
    "info: Microsoft.AspNetCore.Hosting.Diagnostics[2]\n",
    "      Request finished HTTP/2 GET https://localhost:7252/BlazorSandbox.styles.css - - - 304 - text/css 18.0277ms\n",
    "info: Microsoft.AspNetCore.Hosting.Diagnostics[2]\n",
    "      Request finished HTTP/2 GET https://localhost:7252/css/bootstrap/bootstrap.min.css - - - 304 - text/css 19.7418ms\n",
    "info: Microsoft.AspNetCore.Hosting.Diagnostics[2]\n",
    "      Request finished HTTP/2 GET https://localhost:7252/css/site.css - - - 304 - text/css 18.2424ms\n",
    "info: Microsoft.AspNetCore.Hosting.Diagnostics[1]\n",
    "      Request starting HTTP/2 GET https://localhost:7252/_framework/blazor.server.js - -\n",
    "info: Microsoft.AspNetCore.StaticFiles.StaticFileMiddleware[6]\n",
    "      The file /_framework/blazor.server.js was not modified\n",
    "info: Microsoft.AspNetCore.Hosting.Diagnostics[1]\n",
    "      Request starting HTTP/2 GET https://localhost:7252/_framework/aspnetcore-browser-refresh.js - -\n",
    "info: Microsoft.AspNetCore.Hosting.Diagnostics[2]\n",
    "      Request finished HTTP/2 GET https://localhost:7252/_framework/blazor.server.js - - - 304 - application/javascript 0.7157ms\n",
    "info: Microsoft.AspNetCore.Hosting.Diagnostics[1]\n",
    "      Request starting HTTP/2 GET https://localhost:7252/css/open-iconic/font/css/open-iconic-bootstrap.min.css - -\n",
    "info: Microsoft.AspNetCore.StaticFiles.StaticFileMiddleware[6]\n",
    "      The file /css/open-iconic/font/css/open-iconic-bootstrap.min.css was not modified\n",
    "info: Microsoft.AspNetCore.Hosting.Diagnostics[2]\n",
    "      Request finished HTTP/2 GET https://localhost:7252/css/open-iconic/font/css/open-iconic-bootstrap.min.css - - - 304 - text/css 1.8195ms\n",
    "info: Microsoft.AspNetCore.Hosting.Diagnostics[2]\n",
    "      Request finished HTTP/2 GET https://localhost:7252/_framework/aspnetcore-browser-refresh.js - - - 200 11996 application/javascript;+charset=utf-8 4.4361ms\n",
    "info: Microsoft.AspNetCore.Hosting.Diagnostics[1]\n",
    "      Request starting HTTP/2 GET https://localhost:7252/_vs/browserLink - -\n",
    "info: Microsoft.AspNetCore.Hosting.Diagnostics[1]\n",
    "      Request starting HTTP/2 GET https://localhost:7252/_blazor/initializers - -\n",
    "info: Microsoft.AspNetCore.Authentication.Cookies.CookieAuthenticationHandler[7]\n",
    "      Identity.Application was not authenticated. Failure message: Unprotect ticket failed\n",
    "info: Microsoft.AspNetCore.Routing.EndpointMiddleware[0]\n",
    "      Executing endpoint 'Blazor initializers'\n",
    "info: Microsoft.AspNetCore.Routing.EndpointMiddleware[1]\n",
    "      Executed endpoint 'Blazor initializers'\n",
    "info: Microsoft.AspNetCore.Hosting.Diagnostics[2]\n",
    "      Request finished HTTP/2 GET https://localhost:7252/_blazor/initializers - - - 200 - application/json;+charset=utf-8 9.8888ms\n",
    "info: Microsoft.AspNetCore.Hosting.Diagnostics[2]\n",
    "      Request finished HTTP/2 GET https://localhost:7252/_vs/browserLink - - - 200 - text/javascript;+charset=UTF-8 35.0733ms\n",
    "info: Microsoft.AspNetCore.Hosting.Diagnostics[1]\n",
    "      Request starting HTTP/2 GET https://localhost:7252/css/open-iconic/font/fonts/open-iconic.woff - -\n",
    "info: Microsoft.AspNetCore.StaticFiles.StaticFileMiddleware[6]\n",
    "      The file /css/open-iconic/font/fonts/open-iconic.woff was not modified\n",
    "info: Microsoft.AspNetCore.Hosting.Diagnostics[2]\n",
    "      Request finished HTTP/2 GET https://localhost:7252/css/open-iconic/font/fonts/open-iconic.woff - - - 304 - application/font-woff 0.6011ms\n",
    "info: Microsoft.AspNetCore.Hosting.Diagnostics[1]\n",
    "      Request starting HTTP/2 POST https://localhost:7252/_blazor/negotiate?negotiateVersion=1 text/plain;charset=UTF-8 0\n",
    "info: Microsoft.AspNetCore.Authentication.Cookies.CookieAuthenticationHandler[7]\n",
    "      Identity.Application was not authenticated. Failure message: Unprotect ticket failed\n",
    "info: Microsoft.AspNetCore.Routing.EndpointMiddleware[0]\n",
    "      Executing endpoint '/_blazor/negotiate'\n",
    "info: Microsoft.AspNetCore.Routing.EndpointMiddleware[1]\n",
    "      Executed endpoint '/_blazor/negotiate'\n",
    "info: Microsoft.AspNetCore.Hosting.Diagnostics[2]\n",
    "      Request finished HTTP/2 POST https://localhost:7252/_blazor/negotiate?negotiateVersion=1 text/plain;charset=UTF-8 0 - 200 316 application/json 1.2503ms\n",
    "info: Microsoft.AspNetCore.Hosting.Diagnostics[1]\n",
    "      Request starting HTTP/1.1 GET https://localhost:7252/_blazor?id=HMzCfb6h0pZ5Dp0U9nA75g - -\n",
    "info: Microsoft.AspNetCore.Authentication.Cookies.CookieAuthenticationHandler[7]\n",
    "      Identity.Application was not authenticated. Failure message: Unprotect ticket failed\n",
    "info: Microsoft.AspNetCore.Routing.EndpointMiddleware[0]\n",
    "      Executing endpoint '/_blazor'\n",
    "info: Microsoft.AspNetCore.Hosting.Diagnostics[1]\n",
    "      Request starting HTTP/2 GET https://localhost:7252/favicon.ico - -\n",
    "info: Microsoft.AspNetCore.StaticFiles.StaticFileMiddleware[6]\n",
    "      The file /favicon.ico was not modified\n",
    "info: Microsoft.AspNetCore.Hosting.Diagnostics[2]\n",
    "      Request finished HTTP/2 GET https://localhost:7252/favicon.ico - - - 304 - image/x-icon 0.7264ms\n",
    "warn: BlazorSandbox.Pages.FetchData[0]\n",
    "      OnInitializedAsync\n",
    "warn: BlazorSandbox.Pages.FetchData[0]\n",
    "      OnParameterSetAsync\n",
    "info: Microsoft.AspNetCore.Authorization.DefaultAuthorizationService[2]\n",
    "      Authorization failed. These requirements were not met:\n",
    "      DenyAnonymousAuthorizationRequirement: Requires an authenticated user.\n",
    "```"
   ]
  },
  {
   "cell_type": "markdown",
   "metadata": {},
   "source": [
    "Your output might vary slightly, but the important change you should be able to observe is that there are more logs than before\n",
    "and all of them Start with ```info: Microsoft.AspNetCore ...```.\n",
    "\n",
    "These messages were supresed through the config before.\n",
    "\n",
    "### Log Level\n",
    "\n",
    "There are more log levels than just ```Information``` and ```Warning```.\n",
    "Each with its own semantics and verbosity.\n",
    "\n",
    "Here's a list, try a few of these with the ```Microsoft.AspNet``` Category to experiment:\n",
    "\n",
    "- None\n",
    "- Critical\n",
    "- Error\n",
    "- Warning\n",
    "- Information\n",
    "- Debug\n",
    "- Trace\n",
    "\n",
    "You can find further information about the semantics of these levels in the [.NET Core Documentation](https://learn.microsoft.com/en-us/dotnet/core/extensions/logging?tabs=command-line#log-level)\n",
    "\n",
    "Thats it for today. In the next part, we'll take a look at how to use all of this when writing logs from your own code."
   ]
  }
 ],
 "metadata": {
  "kernelspec": {
   "display_name": ".NET (C#)",
   "language": "C#",
   "name": ".net-csharp"
  },
  "language_info": {
   "name": "C#"
  }
 },
 "nbformat": 4,
 "nbformat_minor": 2
}
